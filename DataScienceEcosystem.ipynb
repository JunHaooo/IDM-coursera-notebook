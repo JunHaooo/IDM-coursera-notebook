{
 "cells": [
  {
   "cell_type": "markdown",
   "id": "3c935f87-04a3-4c66-8c1c-896ef8664ebf",
   "metadata": {},
   "source": [
    "# Data Science Tools and Ecosystem"
   ]
  },
  {
   "cell_type": "markdown",
   "id": "7c15793a-918b-441c-89be-d8d16a60a3c8",
   "metadata": {},
   "source": [
    "In this notebook, Data Science Tools and Ecosystem are summarized.\r\n"
   ]
  },
  {
   "cell_type": "markdown",
   "id": "a57ad4e1-b36e-49f7-9c8a-6bd593b24e5f",
   "metadata": {},
   "source": [
    "Objectives:\n",
    "- List of popular languages for Data Science\n",
    "- List of commonly used libaries for Data Science\n",
    "- Table containing Data Science Tools\n",
    "- Evaluation of Arithmetic Expressions"
   ]
  },
  {
   "cell_type": "markdown",
   "id": "104c2d2f-b761-4419-a1b2-90c1027d39a1",
   "metadata": {
    "jp-MarkdownHeadingCollapsed": true
   },
   "source": [
    "### Some of the popular langauges that Data Scientist use are:\n",
    "- Python\n",
    "- R\n",
    "- SQL\n",
    "- Scala\n",
    "- Java\n",
    "- C++\n",
    "- Julia"
   ]
  },
  {
   "cell_type": "markdown",
   "id": "fc9d26d7-cf46-4b74-ae71-afa480cb33f5",
   "metadata": {},
   "source": [
    "### Some of the commonly used libraries used by Data Scientist:\n",
    "Scientific Computing Libraries\n",
    "- Numpy\n",
    "- Pandas\n",
    "- Scipy\n",
    "\n",
    "Visualisation Libraries\n",
    "- Matplotlib\n",
    "- Seaborn\n",
    "- ggplot (R)\n",
    "\n",
    "High-Level Machine Learning and Deep Learning Libraries\n",
    "- Scikit\n",
    "- Keras\n",
    "- Tensorflow\n",
    "- Apache Spark"
   ]
  },
  {
   "cell_type": "markdown",
   "id": "0b2e82b1-4c79-4508-bfc1-bf655579a8eb",
   "metadata": {},
   "source": [
    "|Data Science Tools|\n",
    "|------------------|\n",
    "|Jupyter Notebook|\n",
    "|Pytorch|\n",
    "|Docker|"
   ]
  },
  {
   "cell_type": "markdown",
   "id": "5de3db6d-c98f-4fa6-b4fa-805378551416",
   "metadata": {},
   "source": [
    "### Below are a few examples of evaluating arithmetic expressions in Python\n"
   ]
  },
  {
   "cell_type": "code",
   "execution_count": 1,
   "id": "ca5cc0a8-1f03-4695-875d-e49b669b05ef",
   "metadata": {},
   "outputs": [
    {
     "data": {
      "text/plain": [
       "17"
      ]
     },
     "execution_count": 1,
     "metadata": {},
     "output_type": "execute_result"
    }
   ],
   "source": [
    "# This is a simple arithmetic expression to multiply then add integers\n",
    "(3*4) + 5"
   ]
  },
  {
   "cell_type": "code",
   "execution_count": 3,
   "id": "296598ee-2fd1-42c8-935a-cd5376098c89",
   "metadata": {},
   "outputs": [
    {
     "data": {
      "text/plain": [
       "3.3333333333333335"
      ]
     },
     "execution_count": 3,
     "metadata": {},
     "output_type": "execute_result"
    }
   ],
   "source": [
    "# This will convert 200 minutes to hour by dividing by 60\n",
    "200/60"
   ]
  },
  {
   "cell_type": "markdown",
   "id": "f896836a-2555-4ee5-bf92-c397bda575c8",
   "metadata": {},
   "source": [
    "## Author\n",
    "Low Jun Hao"
   ]
  }
 ],
 "metadata": {
  "kernelspec": {
   "display_name": "Python 3 (ipykernel)",
   "language": "python",
   "name": "python3"
  },
  "language_info": {
   "codemirror_mode": {
    "name": "ipython",
    "version": 3
   },
   "file_extension": ".py",
   "mimetype": "text/x-python",
   "name": "python",
   "nbconvert_exporter": "python",
   "pygments_lexer": "ipython3",
   "version": "3.11.7"
  }
 },
 "nbformat": 4,
 "nbformat_minor": 5
}
